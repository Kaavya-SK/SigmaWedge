{
 "cells": [
  {
   "cell_type": "code",
   "execution_count": 14,
   "id": "4e00dd2f-5c38-48e5-bc89-dfd2e3bc53ae",
   "metadata": {
    "tags": []
   },
   "outputs": [
    {
     "data": {
      "text/plain": [
       "{'licensekey': '999f........b947', 'software_license': {}}"
      ]
     },
     "execution_count": 14,
     "metadata": {},
     "output_type": "execute_result"
    }
   ],
   "source": [
    "from quantrocket.license import get_license_profile\n",
    "get_license_profile(force_refresh=True)"
   ]
  },
  {
   "cell_type": "code",
   "execution_count": 15,
   "id": "f8ecfbdf-446f-4075-bf01-4f7f5dfbbe1e",
   "metadata": {
    "tags": []
   },
   "outputs": [
    {
     "name": "stdout",
     "output_type": "stream",
     "text": [
      "licensekey: 999f........b947\n",
      "software_license: {}\n"
     ]
    }
   ],
   "source": [
    "!quantrocket license get --force-refresh"
   ]
  },
  {
   "cell_type": "code",
   "execution_count": 16,
   "id": "2d0e174b-eb53-4984-9242-e6d91f161407",
   "metadata": {
    "tags": []
   },
   "outputs": [
    {
     "data": {
      "text/plain": [
       "{'status': 'successfully created quantrocket.v2.history.usstock-free-1d.sqlite'}"
      ]
     },
     "execution_count": 16,
     "metadata": {},
     "output_type": "execute_result"
    }
   ],
   "source": [
    "from quantrocket.history import create_usstock_db\n",
    "create_usstock_db(\"usstock-free-1d\", bar_size=\"1 day\", free=True)"
   ]
  },
  {
   "cell_type": "code",
   "execution_count": 1,
   "id": "d5b342a4-db50-43ad-95eb-2c429bd503b0",
   "metadata": {
    "tags": []
   },
   "outputs": [
    {
     "data": {
      "text/plain": [
       "{'status': 'the historical data will be collected asynchronously'}"
      ]
     },
     "execution_count": 1,
     "metadata": {},
     "output_type": "execute_result"
    }
   ],
   "source": [
    "from quantrocket.history import collect_history\n",
    "collect_history(\"usstock-free-1d\")"
   ]
  },
  {
   "cell_type": "code",
   "execution_count": null,
   "id": "747a2c7c-3eb8-4948-af26-9e8c0e28569a",
   "metadata": {},
   "outputs": [],
   "source": []
  },
  {
   "cell_type": "code",
   "execution_count": null,
   "id": "e05b5781-a41b-4050-9a73-9e4ae4eddc2b",
   "metadata": {},
   "outputs": [],
   "source": [
    "# Part - 2"
   ]
  },
  {
   "cell_type": "code",
   "execution_count": null,
   "id": "be0b4a49-c133-42a3-a9b6-0bbe26b3619e",
   "metadata": {},
   "outputs": [],
   "source": [
    "#get_securities function loads them into a pandas DataFrame:"
   ]
  },
  {
   "cell_type": "code",
   "execution_count": 27,
   "id": "72caa91f-6767-4945-8302-a6ce77a706a6",
   "metadata": {
    "tags": []
   },
   "outputs": [
    {
     "data": {
      "text/html": [
       "<div>\n",
       "<style scoped>\n",
       "    .dataframe tbody tr th:only-of-type {\n",
       "        vertical-align: middle;\n",
       "    }\n",
       "\n",
       "    .dataframe tbody tr th {\n",
       "        vertical-align: top;\n",
       "    }\n",
       "\n",
       "    .dataframe thead th {\n",
       "        text-align: right;\n",
       "    }\n",
       "</style>\n",
       "<table border=\"1\" class=\"dataframe\">\n",
       "  <thead>\n",
       "    <tr style=\"text-align: right;\">\n",
       "      <th></th>\n",
       "      <th>Symbol</th>\n",
       "      <th>Exchange</th>\n",
       "      <th>Country</th>\n",
       "      <th>Currency</th>\n",
       "      <th>SecType</th>\n",
       "      <th>Etf</th>\n",
       "      <th>Timezone</th>\n",
       "      <th>Name</th>\n",
       "      <th>PriceMagnifier</th>\n",
       "      <th>Multiplier</th>\n",
       "      <th>Delisted</th>\n",
       "      <th>DateDelisted</th>\n",
       "      <th>LastTradeDate</th>\n",
       "      <th>RolloverDate</th>\n",
       "    </tr>\n",
       "    <tr>\n",
       "      <th>Sid</th>\n",
       "      <th></th>\n",
       "      <th></th>\n",
       "      <th></th>\n",
       "      <th></th>\n",
       "      <th></th>\n",
       "      <th></th>\n",
       "      <th></th>\n",
       "      <th></th>\n",
       "      <th></th>\n",
       "      <th></th>\n",
       "      <th></th>\n",
       "      <th></th>\n",
       "      <th></th>\n",
       "      <th></th>\n",
       "    </tr>\n",
       "  </thead>\n",
       "  <tbody>\n",
       "    <tr>\n",
       "      <th>FIBBG000B9XRY4</th>\n",
       "      <td>AAPL</td>\n",
       "      <td>XNAS</td>\n",
       "      <td>US</td>\n",
       "      <td>USD</td>\n",
       "      <td>STK</td>\n",
       "      <td>False</td>\n",
       "      <td>America/New_York</td>\n",
       "      <td>APPLE INC</td>\n",
       "      <td>1</td>\n",
       "      <td>1</td>\n",
       "      <td>False</td>\n",
       "      <td>NaT</td>\n",
       "      <td>NaT</td>\n",
       "      <td>NaT</td>\n",
       "    </tr>\n",
       "    <tr>\n",
       "      <th>FIBBG000BFWKC0</th>\n",
       "      <td>MON</td>\n",
       "      <td>XNYS</td>\n",
       "      <td>US</td>\n",
       "      <td>USD</td>\n",
       "      <td>STK</td>\n",
       "      <td>False</td>\n",
       "      <td>America/New_York</td>\n",
       "      <td>MONSANTO CO</td>\n",
       "      <td>1</td>\n",
       "      <td>1</td>\n",
       "      <td>True</td>\n",
       "      <td>2018-06-06</td>\n",
       "      <td>NaT</td>\n",
       "      <td>NaT</td>\n",
       "    </tr>\n",
       "    <tr>\n",
       "      <th>FIBBG000BKZB36</th>\n",
       "      <td>HD</td>\n",
       "      <td>XNYS</td>\n",
       "      <td>US</td>\n",
       "      <td>USD</td>\n",
       "      <td>STK</td>\n",
       "      <td>False</td>\n",
       "      <td>America/New_York</td>\n",
       "      <td>HOME DEPOT INC</td>\n",
       "      <td>1</td>\n",
       "      <td>1</td>\n",
       "      <td>False</td>\n",
       "      <td>NaT</td>\n",
       "      <td>NaT</td>\n",
       "      <td>NaT</td>\n",
       "    </tr>\n",
       "    <tr>\n",
       "      <th>FIBBG000BMHYD1</th>\n",
       "      <td>JNJ</td>\n",
       "      <td>XNYS</td>\n",
       "      <td>US</td>\n",
       "      <td>USD</td>\n",
       "      <td>STK</td>\n",
       "      <td>False</td>\n",
       "      <td>America/New_York</td>\n",
       "      <td>JOHNSON &amp; JOHNSON</td>\n",
       "      <td>1</td>\n",
       "      <td>1</td>\n",
       "      <td>False</td>\n",
       "      <td>NaT</td>\n",
       "      <td>NaT</td>\n",
       "      <td>NaT</td>\n",
       "    </tr>\n",
       "    <tr>\n",
       "      <th>FIBBG000BPH459</th>\n",
       "      <td>MSFT</td>\n",
       "      <td>XNAS</td>\n",
       "      <td>US</td>\n",
       "      <td>USD</td>\n",
       "      <td>STK</td>\n",
       "      <td>False</td>\n",
       "      <td>America/New_York</td>\n",
       "      <td>MICROSOFT CORP</td>\n",
       "      <td>1</td>\n",
       "      <td>1</td>\n",
       "      <td>False</td>\n",
       "      <td>NaT</td>\n",
       "      <td>NaT</td>\n",
       "      <td>NaT</td>\n",
       "    </tr>\n",
       "  </tbody>\n",
       "</table>\n",
       "</div>"
      ],
      "text/plain": [
       "               Symbol Exchange Country Currency SecType    Etf  \\\n",
       "Sid                                                              \n",
       "FIBBG000B9XRY4   AAPL     XNAS      US      USD     STK  False   \n",
       "FIBBG000BFWKC0    MON     XNYS      US      USD     STK  False   \n",
       "FIBBG000BKZB36     HD     XNYS      US      USD     STK  False   \n",
       "FIBBG000BMHYD1    JNJ     XNYS      US      USD     STK  False   \n",
       "FIBBG000BPH459   MSFT     XNAS      US      USD     STK  False   \n",
       "\n",
       "                        Timezone               Name  PriceMagnifier  \\\n",
       "Sid                                                                   \n",
       "FIBBG000B9XRY4  America/New_York          APPLE INC               1   \n",
       "FIBBG000BFWKC0  America/New_York        MONSANTO CO               1   \n",
       "FIBBG000BKZB36  America/New_York     HOME DEPOT INC               1   \n",
       "FIBBG000BMHYD1  America/New_York  JOHNSON & JOHNSON               1   \n",
       "FIBBG000BPH459  America/New_York     MICROSOFT CORP               1   \n",
       "\n",
       "                Multiplier  Delisted DateDelisted LastTradeDate RolloverDate  \n",
       "Sid                                                                           \n",
       "FIBBG000B9XRY4           1     False          NaT           NaT          NaT  \n",
       "FIBBG000BFWKC0           1      True   2018-06-06           NaT          NaT  \n",
       "FIBBG000BKZB36           1     False          NaT           NaT          NaT  \n",
       "FIBBG000BMHYD1           1     False          NaT           NaT          NaT  \n",
       "FIBBG000BPH459           1     False          NaT           NaT          NaT  "
      ]
     },
     "execution_count": 27,
     "metadata": {},
     "output_type": "execute_result"
    }
   ],
   "source": [
    "from quantrocket.master import get_securities\n",
    "# by specifying sec_types='STK', we exclude ETFs, which are present in the sample data \n",
    "securities = get_securities(vendors=\"usstock\", sec_types=\"STK\")\n",
    "securities.head()"
   ]
  },
  {
   "cell_type": "code",
   "execution_count": 2,
   "id": "bd0efc0c-6eea-42c8-a72e-43bc0f48798e",
   "metadata": {
    "tags": []
   },
   "outputs": [
    {
     "ename": "NameError",
     "evalue": "name 'securities' is not defined",
     "output_type": "error",
     "traceback": [
      "\u001b[0;31m---------------------------------------------------------------------------\u001b[0m",
      "\u001b[0;31mNameError\u001b[0m                                 Traceback (most recent call last)",
      "Input \u001b[0;32mIn [2]\u001b[0m, in \u001b[0;36m<cell line: 1>\u001b[0;34m()\u001b[0m\n\u001b[0;32m----> 1\u001b[0m \u001b[43msecurities\u001b[49m\u001b[38;5;241m.\u001b[39mshape\n\u001b[1;32m      2\u001b[0m securities\u001b[38;5;241m.\u001b[39mindex\n",
      "\u001b[0;31mNameError\u001b[0m: name 'securities' is not defined"
     ]
    }
   ],
   "source": [
    "securities.shape\n",
    "securities.index"
   ]
  },
  {
   "cell_type": "code",
   "execution_count": 30,
   "id": "c65f9e2e-0319-4fcc-a0f7-cbadab658acb",
   "metadata": {
    "tags": []
   },
   "outputs": [
    {
     "ename": "HTTPError",
     "evalue": "('400 Client Error: BAD REQUEST for url: http://houston/master/universes/usstock-free?sids=FIBBG000B9XRY4&sids=FIBBG000BFWKC0&sids=FIBBG000BKZB36&sids=FIBBG000BMHYD1&sids=FIBBG000BPH459&sids=FIBBG000CK38G3&sids=FIBBG000GZQ728&sids=FIBBG00B3T3HD3', {'status': 'error', 'msg': \"universe 'usstock-free' already exists, please indicate whether to replace it or append to it\"})",
     "output_type": "error",
     "traceback": [
      "\u001b[0;31m---------------------------------------------------------------------------\u001b[0m",
      "\u001b[0;31mHTTPError\u001b[0m                                 Traceback (most recent call last)",
      "Input \u001b[0;32mIn [30]\u001b[0m, in \u001b[0;36m<cell line: 2>\u001b[0;34m()\u001b[0m\n\u001b[1;32m      1\u001b[0m \u001b[38;5;28;01mfrom\u001b[39;00m \u001b[38;5;21;01mquantrocket\u001b[39;00m\u001b[38;5;21;01m.\u001b[39;00m\u001b[38;5;21;01mmaster\u001b[39;00m \u001b[38;5;28;01mimport\u001b[39;00m create_universe\n\u001b[0;32m----> 2\u001b[0m \u001b[43mcreate_universe\u001b[49m\u001b[43m(\u001b[49m\u001b[38;5;124;43m\"\u001b[39;49m\u001b[38;5;124;43musstock-free\u001b[39;49m\u001b[38;5;124;43m\"\u001b[39;49m\u001b[43m,\u001b[49m\u001b[43m \u001b[49m\u001b[43msids\u001b[49m\u001b[38;5;241;43m=\u001b[39;49m\u001b[43msecurities\u001b[49m\u001b[38;5;241;43m.\u001b[39;49m\u001b[43mindex\u001b[49m\u001b[38;5;241;43m.\u001b[39;49m\u001b[43mtolist\u001b[49m\u001b[43m(\u001b[49m\u001b[43m)\u001b[49m\u001b[43m)\u001b[49m\n",
      "File \u001b[0;32m/opt/conda/lib/python3.9/site-packages/quantrocket/master.py:1207\u001b[0m, in \u001b[0;36mcreate_universe\u001b[0;34m(code, infilepath_or_buffer, sids, from_universes, exclude_delisted, append, replace)\u001b[0m\n\u001b[1;32m   1204\u001b[0m \u001b[38;5;28;01melse\u001b[39;00m:\n\u001b[1;32m   1205\u001b[0m     response \u001b[38;5;241m=\u001b[39m houston\u001b[38;5;241m.\u001b[39mrequest(method, url, params\u001b[38;5;241m=\u001b[39mparams)\n\u001b[0;32m-> 1207\u001b[0m \u001b[43mhouston\u001b[49m\u001b[38;5;241;43m.\u001b[39;49m\u001b[43mraise_for_status_with_json\u001b[49m\u001b[43m(\u001b[49m\u001b[43mresponse\u001b[49m\u001b[43m)\u001b[49m\n\u001b[1;32m   1208\u001b[0m \u001b[38;5;28;01mreturn\u001b[39;00m response\u001b[38;5;241m.\u001b[39mjson()\n",
      "File \u001b[0;32m/opt/conda/lib/python3.9/site-packages/quantrocket/houston.py:225\u001b[0m, in \u001b[0;36mHouston.raise_for_status_with_json\u001b[0;34m(response)\u001b[0m\n\u001b[1;32m    223\u001b[0m     e\u001b[38;5;241m.\u001b[39mjson_response \u001b[38;5;241m=\u001b[39m {}\n\u001b[1;32m    224\u001b[0m     e\u001b[38;5;241m.\u001b[39margs \u001b[38;5;241m=\u001b[39m e\u001b[38;5;241m.\u001b[39margs \u001b[38;5;241m+\u001b[39m (\u001b[38;5;124m\"\u001b[39m\u001b[38;5;124mplease check the logs for more details\u001b[39m\u001b[38;5;124m\"\u001b[39m,)\n\u001b[0;32m--> 225\u001b[0m \u001b[38;5;28;01mraise\u001b[39;00m e\n",
      "File \u001b[0;32m/opt/conda/lib/python3.9/site-packages/quantrocket/houston.py:217\u001b[0m, in \u001b[0;36mHouston.raise_for_status_with_json\u001b[0;34m(response)\u001b[0m\n\u001b[1;32m    212\u001b[0m \u001b[38;5;250m\u001b[39m\u001b[38;5;124;03m\"\"\"\u001b[39;00m\n\u001b[1;32m    213\u001b[0m \u001b[38;5;124;03mRaises 400/500 error codes, attaching a json response to the\u001b[39;00m\n\u001b[1;32m    214\u001b[0m \u001b[38;5;124;03mexception, if possible.\u001b[39;00m\n\u001b[1;32m    215\u001b[0m \u001b[38;5;124;03m\"\"\"\u001b[39;00m\n\u001b[1;32m    216\u001b[0m \u001b[38;5;28;01mtry\u001b[39;00m:\n\u001b[0;32m--> 217\u001b[0m     \u001b[43mresponse\u001b[49m\u001b[38;5;241;43m.\u001b[39;49m\u001b[43mraise_for_status\u001b[49m\u001b[43m(\u001b[49m\u001b[43m)\u001b[49m\n\u001b[1;32m    218\u001b[0m \u001b[38;5;28;01mexcept\u001b[39;00m requests\u001b[38;5;241m.\u001b[39mexceptions\u001b[38;5;241m.\u001b[39mHTTPError \u001b[38;5;28;01mas\u001b[39;00m e:\n\u001b[1;32m    219\u001b[0m     \u001b[38;5;28;01mtry\u001b[39;00m:\n",
      "File \u001b[0;32m/opt/conda/lib/python3.9/site-packages/requests/models.py:1021\u001b[0m, in \u001b[0;36mResponse.raise_for_status\u001b[0;34m(self)\u001b[0m\n\u001b[1;32m   1016\u001b[0m     http_error_msg \u001b[38;5;241m=\u001b[39m (\n\u001b[1;32m   1017\u001b[0m         \u001b[38;5;124mf\u001b[39m\u001b[38;5;124m\"\u001b[39m\u001b[38;5;132;01m{\u001b[39;00m\u001b[38;5;28mself\u001b[39m\u001b[38;5;241m.\u001b[39mstatus_code\u001b[38;5;132;01m}\u001b[39;00m\u001b[38;5;124m Server Error: \u001b[39m\u001b[38;5;132;01m{\u001b[39;00mreason\u001b[38;5;132;01m}\u001b[39;00m\u001b[38;5;124m for url: \u001b[39m\u001b[38;5;132;01m{\u001b[39;00m\u001b[38;5;28mself\u001b[39m\u001b[38;5;241m.\u001b[39murl\u001b[38;5;132;01m}\u001b[39;00m\u001b[38;5;124m\"\u001b[39m\n\u001b[1;32m   1018\u001b[0m     )\n\u001b[1;32m   1020\u001b[0m \u001b[38;5;28;01mif\u001b[39;00m http_error_msg:\n\u001b[0;32m-> 1021\u001b[0m     \u001b[38;5;28;01mraise\u001b[39;00m HTTPError(http_error_msg, response\u001b[38;5;241m=\u001b[39m\u001b[38;5;28mself\u001b[39m)\n",
      "\u001b[0;31mHTTPError\u001b[0m: ('400 Client Error: BAD REQUEST for url: http://houston/master/universes/usstock-free?sids=FIBBG000B9XRY4&sids=FIBBG000BFWKC0&sids=FIBBG000BKZB36&sids=FIBBG000BMHYD1&sids=FIBBG000BPH459&sids=FIBBG000CK38G3&sids=FIBBG000GZQ728&sids=FIBBG00B3T3HD3', {'status': 'error', 'msg': \"universe 'usstock-free' already exists, please indicate whether to replace it or append to it\"})"
     ]
    }
   ],
   "source": [
    "from quantrocket.master import create_universe\n",
    "create_universe(\"usstock-free\", sids=securities.index.tolist())"
   ]
  },
  {
   "cell_type": "code",
   "execution_count": null,
   "id": "285c6463-39ca-4143-9a35-dc8fa242fe1b",
   "metadata": {},
   "outputs": [],
   "source": [
    "#Filter securities\n",
    "#As a demonstration, we could also pare down the securities to create a universe from a subset of securities. For example, we might limit the universe to currently listed securities:"
   ]
  },
  {
   "cell_type": "code",
   "execution_count": 21,
   "id": "eb25cfc7-9397-401e-bcec-0a8e9fdada78",
   "metadata": {
    "tags": []
   },
   "outputs": [
    {
     "data": {
      "text/html": [
       "<div>\n",
       "<style scoped>\n",
       "    .dataframe tbody tr th:only-of-type {\n",
       "        vertical-align: middle;\n",
       "    }\n",
       "\n",
       "    .dataframe tbody tr th {\n",
       "        vertical-align: top;\n",
       "    }\n",
       "\n",
       "    .dataframe thead th {\n",
       "        text-align: right;\n",
       "    }\n",
       "</style>\n",
       "<table border=\"1\" class=\"dataframe\">\n",
       "  <thead>\n",
       "    <tr style=\"text-align: right;\">\n",
       "      <th></th>\n",
       "      <th>Symbol</th>\n",
       "      <th>Exchange</th>\n",
       "      <th>Name</th>\n",
       "      <th>Delisted</th>\n",
       "    </tr>\n",
       "    <tr>\n",
       "      <th>Sid</th>\n",
       "      <th></th>\n",
       "      <th></th>\n",
       "      <th></th>\n",
       "      <th></th>\n",
       "    </tr>\n",
       "  </thead>\n",
       "  <tbody>\n",
       "    <tr>\n",
       "      <th>FIBBG000B9XRY4</th>\n",
       "      <td>AAPL</td>\n",
       "      <td>XNAS</td>\n",
       "      <td>APPLE INC</td>\n",
       "      <td>False</td>\n",
       "    </tr>\n",
       "    <tr>\n",
       "      <th>FIBBG000BKZB36</th>\n",
       "      <td>HD</td>\n",
       "      <td>XNYS</td>\n",
       "      <td>HOME DEPOT INC</td>\n",
       "      <td>False</td>\n",
       "    </tr>\n",
       "    <tr>\n",
       "      <th>FIBBG000BMHYD1</th>\n",
       "      <td>JNJ</td>\n",
       "      <td>XNYS</td>\n",
       "      <td>JOHNSON &amp; JOHNSON</td>\n",
       "      <td>False</td>\n",
       "    </tr>\n",
       "    <tr>\n",
       "      <th>FIBBG000BPH459</th>\n",
       "      <td>MSFT</td>\n",
       "      <td>XNAS</td>\n",
       "      <td>MICROSOFT CORP</td>\n",
       "      <td>False</td>\n",
       "    </tr>\n",
       "    <tr>\n",
       "      <th>FIBBG000GZQ728</th>\n",
       "      <td>XOM</td>\n",
       "      <td>XNYS</td>\n",
       "      <td>EXXON MOBIL CORP</td>\n",
       "      <td>False</td>\n",
       "    </tr>\n",
       "  </tbody>\n",
       "</table>\n",
       "</div>"
      ],
      "text/plain": [
       "               Symbol Exchange               Name  Delisted\n",
       "Sid                                                        \n",
       "FIBBG000B9XRY4   AAPL     XNAS          APPLE INC     False\n",
       "FIBBG000BKZB36     HD     XNYS     HOME DEPOT INC     False\n",
       "FIBBG000BMHYD1    JNJ     XNYS  JOHNSON & JOHNSON     False\n",
       "FIBBG000BPH459   MSFT     XNAS     MICROSOFT CORP     False\n",
       "FIBBG000GZQ728    XOM     XNYS   EXXON MOBIL CORP     False"
      ]
     },
     "execution_count": 21,
     "metadata": {},
     "output_type": "execute_result"
    }
   ],
   "source": [
    "\n",
    "filtered_securities = securities[securities.Delisted==False]\n",
    "# also limit the number of columns for readability\n",
    "filtered_securities = filtered_securities[[\"Symbol\", \"Exchange\", \"Name\", \"Delisted\"]]\n",
    "filtered_securities.head()"
   ]
  },
  {
   "cell_type": "code",
   "execution_count": 22,
   "id": "8b32c500-968b-459c-b71f-2578c23e9f3d",
   "metadata": {
    "tags": []
   },
   "outputs": [
    {
     "data": {
      "text/plain": [
       "{'code': 'usstock-free-active',\n",
       " 'provided': 6,\n",
       " 'inserted': 6,\n",
       " 'total_after_insert': 6}"
      ]
     },
     "execution_count": 22,
     "metadata": {},
     "output_type": "execute_result"
    }
   ],
   "source": [
    "create_universe(\"usstock-free-active\", sids=filtered_securities.index.tolist())"
   ]
  },
  {
   "cell_type": "code",
   "execution_count": 23,
   "id": "ea5cdc9f-e583-4d53-a96e-1b1b8da5c473",
   "metadata": {
    "tags": []
   },
   "outputs": [],
   "source": [
    "#PART-3 : Researching the Momentum Factor"
   ]
  },
  {
   "cell_type": "code",
   "execution_count": 103,
   "id": "0ac3f5f1-a569-4736-9474-2c10c12889dc",
   "metadata": {
    "tags": []
   },
   "outputs": [
    {
     "data": {
      "text/html": [
       "<div>\n",
       "<style scoped>\n",
       "    .dataframe tbody tr th:only-of-type {\n",
       "        vertical-align: middle;\n",
       "    }\n",
       "\n",
       "    .dataframe tbody tr th {\n",
       "        vertical-align: top;\n",
       "    }\n",
       "\n",
       "    .dataframe thead th {\n",
       "        text-align: right;\n",
       "    }\n",
       "</style>\n",
       "<table border=\"1\" class=\"dataframe\">\n",
       "  <thead>\n",
       "    <tr style=\"text-align: right;\">\n",
       "      <th></th>\n",
       "      <th>Sid</th>\n",
       "      <th>FIBBG000B9XRY4</th>\n",
       "      <th>FIBBG000BKZB36</th>\n",
       "      <th>FIBBG000BMHYD1</th>\n",
       "      <th>FIBBG000BPH459</th>\n",
       "      <th>FIBBG000GZQ728</th>\n",
       "      <th>FIBBG00B3T3HD3</th>\n",
       "    </tr>\n",
       "    <tr>\n",
       "      <th>Field</th>\n",
       "      <th>Date</th>\n",
       "      <th></th>\n",
       "      <th></th>\n",
       "      <th></th>\n",
       "      <th></th>\n",
       "      <th></th>\n",
       "      <th></th>\n",
       "    </tr>\n",
       "  </thead>\n",
       "  <tbody>\n",
       "    <tr>\n",
       "      <th rowspan=\"5\" valign=\"top\">Close</th>\n",
       "      <th>2023-01-03</th>\n",
       "      <td>124.2163</td>\n",
       "      <td>305.5299</td>\n",
       "      <td>171.6388</td>\n",
       "      <td>237.0360</td>\n",
       "      <td>102.0452</td>\n",
       "      <td>43.8958</td>\n",
       "    </tr>\n",
       "    <tr>\n",
       "      <th>2023-01-04</th>\n",
       "      <td>125.4975</td>\n",
       "      <td>309.2243</td>\n",
       "      <td>173.5075</td>\n",
       "      <td>226.6673</td>\n",
       "      <td>102.3422</td>\n",
       "      <td>44.4374</td>\n",
       "    </tr>\n",
       "    <tr>\n",
       "      <th>2023-01-05</th>\n",
       "      <td>124.1666</td>\n",
       "      <td>305.1043</td>\n",
       "      <td>172.2264</td>\n",
       "      <td>219.9494</td>\n",
       "      <td>104.6320</td>\n",
       "      <td>44.7919</td>\n",
       "    </tr>\n",
       "    <tr>\n",
       "      <th>2023-01-06</th>\n",
       "      <td>128.7352</td>\n",
       "      <td>307.0966</td>\n",
       "      <td>173.6231</td>\n",
       "      <td>222.5416</td>\n",
       "      <td>105.8967</td>\n",
       "      <td>45.6485</td>\n",
       "    </tr>\n",
       "    <tr>\n",
       "      <th>2023-01-09</th>\n",
       "      <td>129.2616</td>\n",
       "      <td>307.3674</td>\n",
       "      <td>169.1248</td>\n",
       "      <td>224.7083</td>\n",
       "      <td>103.9230</td>\n",
       "      <td>49.4985</td>\n",
       "    </tr>\n",
       "  </tbody>\n",
       "</table>\n",
       "</div>"
      ],
      "text/plain": [
       "Sid               FIBBG000B9XRY4  FIBBG000BKZB36  FIBBG000BMHYD1  \\\n",
       "Field Date                                                         \n",
       "Close 2023-01-03        124.2163        305.5299        171.6388   \n",
       "      2023-01-04        125.4975        309.2243        173.5075   \n",
       "      2023-01-05        124.1666        305.1043        172.2264   \n",
       "      2023-01-06        128.7352        307.0966        173.6231   \n",
       "      2023-01-09        129.2616        307.3674        169.1248   \n",
       "\n",
       "Sid               FIBBG000BPH459  FIBBG000GZQ728  FIBBG00B3T3HD3  \n",
       "Field Date                                                        \n",
       "Close 2023-01-03        237.0360        102.0452         43.8958  \n",
       "      2023-01-04        226.6673        102.3422         44.4374  \n",
       "      2023-01-05        219.9494        104.6320         44.7919  \n",
       "      2023-01-06        222.5416        105.8967         45.6485  \n",
       "      2023-01-09        224.7083        103.9230         49.4985  "
      ]
     },
     "execution_count": 103,
     "metadata": {},
     "output_type": "execute_result"
    }
   ],
   "source": [
    "from quantrocket import get_prices\n",
    "prices = get_prices(\"usstock-free-1d\", universes=\"usstock-free\", start_date=\"2023-01-01\", end_date=\"2023-12-30\",fields=[\"Close\"])\n",
    "prices.head()"
   ]
  },
  {
   "cell_type": "code",
   "execution_count": 187,
   "id": "b15071e9-47b0-446e-a967-49819498f41b",
   "metadata": {
    "tags": []
   },
   "outputs": [],
   "source": [
    "sample = prices['FIBBG000B9XRY4']"
   ]
  },
  {
   "cell_type": "code",
   "execution_count": 188,
   "id": "eecfb0d7-a342-4183-986d-62a75101b569",
   "metadata": {
    "tags": []
   },
   "outputs": [],
   "source": [
    "import pandas as pd"
   ]
  },
  {
   "cell_type": "code",
   "execution_count": 189,
   "id": "a7ddf5ae-9825-485f-ba63-1a5a21c6f8ac",
   "metadata": {
    "tags": []
   },
   "outputs": [],
   "source": [
    "df = pd.DataFrame(sample)\n"
   ]
  },
  {
   "cell_type": "code",
   "execution_count": 190,
   "id": "14f8752a-cfe7-4a42-9dcf-ac03cce00a49",
   "metadata": {
    "tags": []
   },
   "outputs": [
    {
     "data": {
      "text/html": [
       "<div>\n",
       "<style scoped>\n",
       "    .dataframe tbody tr th:only-of-type {\n",
       "        vertical-align: middle;\n",
       "    }\n",
       "\n",
       "    .dataframe tbody tr th {\n",
       "        vertical-align: top;\n",
       "    }\n",
       "\n",
       "    .dataframe thead th {\n",
       "        text-align: right;\n",
       "    }\n",
       "</style>\n",
       "<table border=\"1\" class=\"dataframe\">\n",
       "  <thead>\n",
       "    <tr style=\"text-align: right;\">\n",
       "      <th></th>\n",
       "      <th></th>\n",
       "      <th>FIBBG000B9XRY4</th>\n",
       "    </tr>\n",
       "    <tr>\n",
       "      <th>Field</th>\n",
       "      <th>Date</th>\n",
       "      <th></th>\n",
       "    </tr>\n",
       "  </thead>\n",
       "  <tbody>\n",
       "    <tr>\n",
       "      <th rowspan=\"11\" valign=\"top\">Close</th>\n",
       "      <th>2023-01-03</th>\n",
       "      <td>124.2163</td>\n",
       "    </tr>\n",
       "    <tr>\n",
       "      <th>2023-01-04</th>\n",
       "      <td>125.4975</td>\n",
       "    </tr>\n",
       "    <tr>\n",
       "      <th>2023-01-05</th>\n",
       "      <td>124.1666</td>\n",
       "    </tr>\n",
       "    <tr>\n",
       "      <th>2023-01-06</th>\n",
       "      <td>128.7352</td>\n",
       "    </tr>\n",
       "    <tr>\n",
       "      <th>2023-01-09</th>\n",
       "      <td>129.2616</td>\n",
       "    </tr>\n",
       "    <tr>\n",
       "      <th>...</th>\n",
       "      <td>...</td>\n",
       "    </tr>\n",
       "    <tr>\n",
       "      <th>2023-12-22</th>\n",
       "      <td>193.3533</td>\n",
       "    </tr>\n",
       "    <tr>\n",
       "      <th>2023-12-26</th>\n",
       "      <td>192.8040</td>\n",
       "    </tr>\n",
       "    <tr>\n",
       "      <th>2023-12-27</th>\n",
       "      <td>192.9038</td>\n",
       "    </tr>\n",
       "    <tr>\n",
       "      <th>2023-12-28</th>\n",
       "      <td>193.3333</td>\n",
       "    </tr>\n",
       "    <tr>\n",
       "      <th>2023-12-29</th>\n",
       "      <td>192.2846</td>\n",
       "    </tr>\n",
       "  </tbody>\n",
       "</table>\n",
       "<p>250 rows × 1 columns</p>\n",
       "</div>"
      ],
      "text/plain": [
       "                  FIBBG000B9XRY4\n",
       "Field Date                      \n",
       "Close 2023-01-03        124.2163\n",
       "      2023-01-04        125.4975\n",
       "      2023-01-05        124.1666\n",
       "      2023-01-06        128.7352\n",
       "      2023-01-09        129.2616\n",
       "...                          ...\n",
       "      2023-12-22        193.3533\n",
       "      2023-12-26        192.8040\n",
       "      2023-12-27        192.9038\n",
       "      2023-12-28        193.3333\n",
       "      2023-12-29        192.2846\n",
       "\n",
       "[250 rows x 1 columns]"
      ]
     },
     "execution_count": 190,
     "metadata": {},
     "output_type": "execute_result"
    }
   ],
   "source": [
    "df"
   ]
  },
  {
   "cell_type": "code",
   "execution_count": 191,
   "id": "6e5ebfa1-e857-4d65-b9a1-da7d6d248b80",
   "metadata": {
    "tags": []
   },
   "outputs": [
    {
     "data": {
      "text/plain": [
       "MultiIndex([('Close', '2023-01-03'),\n",
       "            ('Close', '2023-01-04'),\n",
       "            ('Close', '2023-01-05'),\n",
       "            ('Close', '2023-01-06'),\n",
       "            ('Close', '2023-01-09'),\n",
       "            ('Close', '2023-01-10'),\n",
       "            ('Close', '2023-01-11'),\n",
       "            ('Close', '2023-01-12'),\n",
       "            ('Close', '2023-01-13'),\n",
       "            ('Close', '2023-01-17'),\n",
       "            ...\n",
       "            ('Close', '2023-12-15'),\n",
       "            ('Close', '2023-12-18'),\n",
       "            ('Close', '2023-12-19'),\n",
       "            ('Close', '2023-12-20'),\n",
       "            ('Close', '2023-12-21'),\n",
       "            ('Close', '2023-12-22'),\n",
       "            ('Close', '2023-12-26'),\n",
       "            ('Close', '2023-12-27'),\n",
       "            ('Close', '2023-12-28'),\n",
       "            ('Close', '2023-12-29')],\n",
       "           names=['Field', 'Date'], length=250)"
      ]
     },
     "execution_count": 191,
     "metadata": {},
     "output_type": "execute_result"
    }
   ],
   "source": [
    "df.index"
   ]
  },
  {
   "cell_type": "code",
   "execution_count": 317,
   "id": "7585b5a2-21a5-43cd-9bb7-5e39a528916a",
   "metadata": {
    "tags": []
   },
   "outputs": [],
   "source": [
    "data = pd.DataFrame(df)"
   ]
  },
  {
   "cell_type": "code",
   "execution_count": 318,
   "id": "7747d7c6-ca9e-4c0a-9c6c-d9c319c0d90f",
   "metadata": {
    "tags": []
   },
   "outputs": [
    {
     "data": {
      "text/plain": [
       "(250,)"
      ]
     },
     "execution_count": 318,
     "metadata": {},
     "output_type": "execute_result"
    }
   ],
   "source": [
    "df['FIBBG000B9XRY4']['Close'].shape\n"
   ]
  },
  {
   "cell_type": "code",
   "execution_count": 319,
   "id": "09bcd034-402e-437e-851d-f429d4a1492e",
   "metadata": {
    "tags": []
   },
   "outputs": [],
   "source": [
    "temp=[]\n",
    "for i in range(0,250):\n",
    "    temp.append(df['FIBBG000B9XRY4']['Close'][i])\n",
    "    \n",
    "    \n",
    "temp\n",
    "\n",
    "data['prices'] = temp"
   ]
  },
  {
   "cell_type": "code",
   "execution_count": 320,
   "id": "fb9d1b20-7bdb-445d-96f6-8814cc333ae2",
   "metadata": {
    "tags": []
   },
   "outputs": [
    {
     "data": {
      "text/html": [
       "<div>\n",
       "<style scoped>\n",
       "    .dataframe tbody tr th:only-of-type {\n",
       "        vertical-align: middle;\n",
       "    }\n",
       "\n",
       "    .dataframe tbody tr th {\n",
       "        vertical-align: top;\n",
       "    }\n",
       "\n",
       "    .dataframe thead th {\n",
       "        text-align: right;\n",
       "    }\n",
       "</style>\n",
       "<table border=\"1\" class=\"dataframe\">\n",
       "  <thead>\n",
       "    <tr style=\"text-align: right;\">\n",
       "      <th></th>\n",
       "      <th></th>\n",
       "      <th>FIBBG000B9XRY4</th>\n",
       "      <th>prices</th>\n",
       "    </tr>\n",
       "    <tr>\n",
       "      <th>Field</th>\n",
       "      <th>Date</th>\n",
       "      <th></th>\n",
       "      <th></th>\n",
       "    </tr>\n",
       "  </thead>\n",
       "  <tbody>\n",
       "    <tr>\n",
       "      <th rowspan=\"5\" valign=\"top\">Close</th>\n",
       "      <th>2023-01-03</th>\n",
       "      <td>124.2163</td>\n",
       "      <td>124.2163</td>\n",
       "    </tr>\n",
       "    <tr>\n",
       "      <th>2023-01-04</th>\n",
       "      <td>125.4975</td>\n",
       "      <td>125.4975</td>\n",
       "    </tr>\n",
       "    <tr>\n",
       "      <th>2023-01-05</th>\n",
       "      <td>124.1666</td>\n",
       "      <td>124.1666</td>\n",
       "    </tr>\n",
       "    <tr>\n",
       "      <th>2023-01-06</th>\n",
       "      <td>128.7352</td>\n",
       "      <td>128.7352</td>\n",
       "    </tr>\n",
       "    <tr>\n",
       "      <th>2023-01-09</th>\n",
       "      <td>129.2616</td>\n",
       "      <td>129.2616</td>\n",
       "    </tr>\n",
       "  </tbody>\n",
       "</table>\n",
       "</div>"
      ],
      "text/plain": [
       "                  FIBBG000B9XRY4    prices\n",
       "Field Date                                \n",
       "Close 2023-01-03        124.2163  124.2163\n",
       "      2023-01-04        125.4975  125.4975\n",
       "      2023-01-05        124.1666  124.1666\n",
       "      2023-01-06        128.7352  128.7352\n",
       "      2023-01-09        129.2616  129.2616"
      ]
     },
     "execution_count": 320,
     "metadata": {},
     "output_type": "execute_result"
    }
   ],
   "source": [
    "data.head()"
   ]
  },
  {
   "cell_type": "code",
   "execution_count": 321,
   "id": "0c0fafa6-381e-4a17-ab7f-7e999d066886",
   "metadata": {
    "tags": []
   },
   "outputs": [
    {
     "data": {
      "text/plain": [
       "Index(['FIBBG000B9XRY4', 'prices'], dtype='object')"
      ]
     },
     "execution_count": 321,
     "metadata": {},
     "output_type": "execute_result"
    }
   ],
   "source": [
    "data.columns"
   ]
  },
  {
   "cell_type": "code",
   "execution_count": 322,
   "id": "ed354afc-b843-4043-94b3-16bd1b1cf50b",
   "metadata": {
    "tags": []
   },
   "outputs": [],
   "source": [
    "data = data.drop(['FIBBG000B9XRY4'],axis=1)\n"
   ]
  },
  {
   "cell_type": "code",
   "execution_count": 323,
   "id": "4c284a84-e024-47e6-94ce-c2788156d26b",
   "metadata": {
    "tags": []
   },
   "outputs": [
    {
     "data": {
      "text/plain": [
       "Index(['prices'], dtype='object')"
      ]
     },
     "execution_count": 323,
     "metadata": {},
     "output_type": "execute_result"
    }
   ],
   "source": [
    "data.columns"
   ]
  },
  {
   "cell_type": "code",
   "execution_count": 324,
   "id": "92709dc6-3a0a-4593-b943-822ddf744b05",
   "metadata": {
    "tags": []
   },
   "outputs": [
    {
     "data": {
      "text/html": [
       "<div>\n",
       "<style scoped>\n",
       "    .dataframe tbody tr th:only-of-type {\n",
       "        vertical-align: middle;\n",
       "    }\n",
       "\n",
       "    .dataframe tbody tr th {\n",
       "        vertical-align: top;\n",
       "    }\n",
       "\n",
       "    .dataframe thead th {\n",
       "        text-align: right;\n",
       "    }\n",
       "</style>\n",
       "<table border=\"1\" class=\"dataframe\">\n",
       "  <thead>\n",
       "    <tr style=\"text-align: right;\">\n",
       "      <th></th>\n",
       "      <th></th>\n",
       "      <th>prices</th>\n",
       "    </tr>\n",
       "    <tr>\n",
       "      <th>Field</th>\n",
       "      <th>Date</th>\n",
       "      <th></th>\n",
       "    </tr>\n",
       "  </thead>\n",
       "  <tbody>\n",
       "    <tr>\n",
       "      <th rowspan=\"5\" valign=\"top\">Close</th>\n",
       "      <th>2023-01-03</th>\n",
       "      <td>124.2163</td>\n",
       "    </tr>\n",
       "    <tr>\n",
       "      <th>2023-01-04</th>\n",
       "      <td>125.4975</td>\n",
       "    </tr>\n",
       "    <tr>\n",
       "      <th>2023-01-05</th>\n",
       "      <td>124.1666</td>\n",
       "    </tr>\n",
       "    <tr>\n",
       "      <th>2023-01-06</th>\n",
       "      <td>128.7352</td>\n",
       "    </tr>\n",
       "    <tr>\n",
       "      <th>2023-01-09</th>\n",
       "      <td>129.2616</td>\n",
       "    </tr>\n",
       "  </tbody>\n",
       "</table>\n",
       "</div>"
      ],
      "text/plain": [
       "                    prices\n",
       "Field Date                \n",
       "Close 2023-01-03  124.2163\n",
       "      2023-01-04  125.4975\n",
       "      2023-01-05  124.1666\n",
       "      2023-01-06  128.7352\n",
       "      2023-01-09  129.2616"
      ]
     },
     "execution_count": 324,
     "metadata": {},
     "output_type": "execute_result"
    }
   ],
   "source": [
    "data.head()"
   ]
  },
  {
   "cell_type": "code",
   "execution_count": 325,
   "id": "8ad5dce5-db1c-42ee-ab75-cd2e15b10a11",
   "metadata": {
    "tags": []
   },
   "outputs": [],
   "source": [
    "data = data.reset_index()\n"
   ]
  },
  {
   "cell_type": "code",
   "execution_count": 326,
   "id": "334d23d1-2e0c-4b6d-ae53-23c9dcf59be8",
   "metadata": {
    "tags": []
   },
   "outputs": [
    {
     "data": {
      "text/html": [
       "<div>\n",
       "<style scoped>\n",
       "    .dataframe tbody tr th:only-of-type {\n",
       "        vertical-align: middle;\n",
       "    }\n",
       "\n",
       "    .dataframe tbody tr th {\n",
       "        vertical-align: top;\n",
       "    }\n",
       "\n",
       "    .dataframe thead th {\n",
       "        text-align: right;\n",
       "    }\n",
       "</style>\n",
       "<table border=\"1\" class=\"dataframe\">\n",
       "  <thead>\n",
       "    <tr style=\"text-align: right;\">\n",
       "      <th></th>\n",
       "      <th>Field</th>\n",
       "      <th>Date</th>\n",
       "      <th>prices</th>\n",
       "    </tr>\n",
       "  </thead>\n",
       "  <tbody>\n",
       "    <tr>\n",
       "      <th>0</th>\n",
       "      <td>Close</td>\n",
       "      <td>2023-01-03</td>\n",
       "      <td>124.2163</td>\n",
       "    </tr>\n",
       "    <tr>\n",
       "      <th>1</th>\n",
       "      <td>Close</td>\n",
       "      <td>2023-01-04</td>\n",
       "      <td>125.4975</td>\n",
       "    </tr>\n",
       "    <tr>\n",
       "      <th>2</th>\n",
       "      <td>Close</td>\n",
       "      <td>2023-01-05</td>\n",
       "      <td>124.1666</td>\n",
       "    </tr>\n",
       "    <tr>\n",
       "      <th>3</th>\n",
       "      <td>Close</td>\n",
       "      <td>2023-01-06</td>\n",
       "      <td>128.7352</td>\n",
       "    </tr>\n",
       "    <tr>\n",
       "      <th>4</th>\n",
       "      <td>Close</td>\n",
       "      <td>2023-01-09</td>\n",
       "      <td>129.2616</td>\n",
       "    </tr>\n",
       "  </tbody>\n",
       "</table>\n",
       "</div>"
      ],
      "text/plain": [
       "   Field       Date    prices\n",
       "0  Close 2023-01-03  124.2163\n",
       "1  Close 2023-01-04  125.4975\n",
       "2  Close 2023-01-05  124.1666\n",
       "3  Close 2023-01-06  128.7352\n",
       "4  Close 2023-01-09  129.2616"
      ]
     },
     "execution_count": 326,
     "metadata": {},
     "output_type": "execute_result"
    }
   ],
   "source": [
    "data.head()"
   ]
  },
  {
   "cell_type": "code",
   "execution_count": 327,
   "id": "d4a80958-0bee-4cea-b193-b40d1885b7f7",
   "metadata": {
    "tags": []
   },
   "outputs": [],
   "source": [
    "data = data.drop(['Field'],axis=1)"
   ]
  },
  {
   "cell_type": "code",
   "execution_count": 328,
   "id": "b1cc2abb-2e1b-4116-9b67-c721da106bb6",
   "metadata": {
    "tags": []
   },
   "outputs": [
    {
     "data": {
      "text/html": [
       "<div>\n",
       "<style scoped>\n",
       "    .dataframe tbody tr th:only-of-type {\n",
       "        vertical-align: middle;\n",
       "    }\n",
       "\n",
       "    .dataframe tbody tr th {\n",
       "        vertical-align: top;\n",
       "    }\n",
       "\n",
       "    .dataframe thead th {\n",
       "        text-align: right;\n",
       "    }\n",
       "</style>\n",
       "<table border=\"1\" class=\"dataframe\">\n",
       "  <thead>\n",
       "    <tr style=\"text-align: right;\">\n",
       "      <th></th>\n",
       "      <th>Date</th>\n",
       "      <th>prices</th>\n",
       "    </tr>\n",
       "  </thead>\n",
       "  <tbody>\n",
       "    <tr>\n",
       "      <th>0</th>\n",
       "      <td>2023-01-03</td>\n",
       "      <td>124.2163</td>\n",
       "    </tr>\n",
       "    <tr>\n",
       "      <th>1</th>\n",
       "      <td>2023-01-04</td>\n",
       "      <td>125.4975</td>\n",
       "    </tr>\n",
       "    <tr>\n",
       "      <th>2</th>\n",
       "      <td>2023-01-05</td>\n",
       "      <td>124.1666</td>\n",
       "    </tr>\n",
       "    <tr>\n",
       "      <th>3</th>\n",
       "      <td>2023-01-06</td>\n",
       "      <td>128.7352</td>\n",
       "    </tr>\n",
       "    <tr>\n",
       "      <th>4</th>\n",
       "      <td>2023-01-09</td>\n",
       "      <td>129.2616</td>\n",
       "    </tr>\n",
       "  </tbody>\n",
       "</table>\n",
       "</div>"
      ],
      "text/plain": [
       "        Date    prices\n",
       "0 2023-01-03  124.2163\n",
       "1 2023-01-04  125.4975\n",
       "2 2023-01-05  124.1666\n",
       "3 2023-01-06  128.7352\n",
       "4 2023-01-09  129.2616"
      ]
     },
     "execution_count": 328,
     "metadata": {},
     "output_type": "execute_result"
    }
   ],
   "source": [
    "data.head()"
   ]
  },
  {
   "cell_type": "code",
   "execution_count": 329,
   "id": "c6a18fc1-5846-479d-a763-7a1f49be30db",
   "metadata": {
    "tags": []
   },
   "outputs": [
    {
     "data": {
      "text/plain": [
       "(250, 2)"
      ]
     },
     "execution_count": 329,
     "metadata": {},
     "output_type": "execute_result"
    }
   ],
   "source": [
    "data.shape"
   ]
  },
  {
   "cell_type": "code",
   "execution_count": 330,
   "id": "b4b70d6a-fb80-4856-806b-6c5c2ee5fd8e",
   "metadata": {
    "tags": []
   },
   "outputs": [],
   "source": [
    "#Data cleaning"
   ]
  },
  {
   "cell_type": "code",
   "execution_count": 331,
   "id": "e8db655d-5b1c-4365-84e7-15eaf1754311",
   "metadata": {
    "tags": []
   },
   "outputs": [
    {
     "data": {
      "text/plain": [
       "<bound method DataFrame.count of       Date  prices\n",
       "0    False   False\n",
       "1    False   False\n",
       "2    False   False\n",
       "3    False   False\n",
       "4    False   False\n",
       "..     ...     ...\n",
       "245  False   False\n",
       "246  False   False\n",
       "247  False   False\n",
       "248  False   False\n",
       "249  False   False\n",
       "\n",
       "[250 rows x 2 columns]>"
      ]
     },
     "execution_count": 331,
     "metadata": {},
     "output_type": "execute_result"
    }
   ],
   "source": [
    "data.isna().count"
   ]
  },
  {
   "cell_type": "code",
   "execution_count": 332,
   "id": "1d51bd5e-8c41-4f82-9f2a-d5b175e6cb78",
   "metadata": {
    "tags": []
   },
   "outputs": [
    {
     "data": {
      "text/plain": [
       "Text(0, 0.5, 'Prices')"
      ]
     },
     "execution_count": 332,
     "metadata": {},
     "output_type": "execute_result"
    },
    {
     "data": {
      "image/png": "[encoded data removed]",
      "text/plain": [
       "<Figure size 1080x864 with 1 Axes>"
      ]
     },
     "metadata": {},
     "output_type": "display_data"
    }
   ],
   "source": [
    "import matplotlib.pyplot as plt\n",
    "\n",
    "plt.figure(figsize=(15,12))\n",
    "plt.scatter(data.Date,data.prices)\n",
    "plt.title('US Stock Price')\n",
    "plt.xlabel('Date')\n",
    "plt.ylabel('Prices')"
   ]
  },
  {
   "cell_type": "code",
   "execution_count": 333,
   "id": "7c3fc7f0-841b-4fdf-93e9-660dbd963c94",
   "metadata": {
    "tags": []
   },
   "outputs": [
    {
     "data": {
      "text/html": [
       "<div>\n",
       "<style scoped>\n",
       "    .dataframe tbody tr th:only-of-type {\n",
       "        vertical-align: middle;\n",
       "    }\n",
       "\n",
       "    .dataframe tbody tr th {\n",
       "        vertical-align: top;\n",
       "    }\n",
       "\n",
       "    .dataframe thead th {\n",
       "        text-align: right;\n",
       "    }\n",
       "</style>\n",
       "<table border=\"1\" class=\"dataframe\">\n",
       "  <thead>\n",
       "    <tr style=\"text-align: right;\">\n",
       "      <th></th>\n",
       "      <th>Date</th>\n",
       "      <th>prices</th>\n",
       "    </tr>\n",
       "  </thead>\n",
       "  <tbody>\n",
       "    <tr>\n",
       "      <th>0</th>\n",
       "      <td>2023-01-03</td>\n",
       "      <td>124.2163</td>\n",
       "    </tr>\n",
       "    <tr>\n",
       "      <th>1</th>\n",
       "      <td>2023-01-04</td>\n",
       "      <td>125.4975</td>\n",
       "    </tr>\n",
       "    <tr>\n",
       "      <th>2</th>\n",
       "      <td>2023-01-05</td>\n",
       "      <td>124.1666</td>\n",
       "    </tr>\n",
       "    <tr>\n",
       "      <th>3</th>\n",
       "      <td>2023-01-06</td>\n",
       "      <td>128.7352</td>\n",
       "    </tr>\n",
       "    <tr>\n",
       "      <th>4</th>\n",
       "      <td>2023-01-09</td>\n",
       "      <td>129.2616</td>\n",
       "    </tr>\n",
       "  </tbody>\n",
       "</table>\n",
       "</div>"
      ],
      "text/plain": [
       "        Date    prices\n",
       "0 2023-01-03  124.2163\n",
       "1 2023-01-04  125.4975\n",
       "2 2023-01-05  124.1666\n",
       "3 2023-01-06  128.7352\n",
       "4 2023-01-09  129.2616"
      ]
     },
     "execution_count": 333,
     "metadata": {},
     "output_type": "execute_result"
    }
   ],
   "source": [
    "data.head()"
   ]
  },
  {
   "cell_type": "code",
   "execution_count": 334,
   "id": "ce44a79d-b481-4a27-9b6d-0f50127e47eb",
   "metadata": {
    "tags": []
   },
   "outputs": [
    {
     "data": {
      "text/plain": [
       "0    124.2163\n",
       "Name: prices, dtype: float64"
      ]
     },
     "execution_count": 334,
     "metadata": {},
     "output_type": "execute_result"
    }
   ],
   "source": [
    "data[data['Date'] == '2023-01-03'].prices"
   ]
  },
  {
   "cell_type": "code",
   "execution_count": 335,
   "id": "eadab0a5-eaa3-4947-9966-f65f706cf10d",
   "metadata": {
    "tags": []
   },
   "outputs": [
    {
     "data": {
      "text/plain": [
       "129.8377"
      ]
     },
     "execution_count": 335,
     "metadata": {},
     "output_type": "execute_result"
    }
   ],
   "source": [
    "data.prices.iloc[5]"
   ]
  },
  {
   "cell_type": "code",
   "execution_count": 336,
   "id": "78964364-a537-44f0-b988-05e0996c81f4",
   "metadata": {
    "tags": []
   },
   "outputs": [],
   "source": [
    "days = data.shape[0]"
   ]
  },
  {
   "cell_type": "code",
   "execution_count": 353,
   "id": "9afae947-2c30-453c-b8cd-bea2cff2e8b0",
   "metadata": {
    "tags": []
   },
   "outputs": [
    {
     "name": "stdout",
     "output_type": "stream",
     "text": [
      "1.031426632414585  bull\t \t+1\n",
      "-1.0604992131317355  bare\t \t-1\n",
      "3.6794113714960295  bull\t \t+1\n",
      "0.4089013727403191  bull\t \t+1\n",
      "0.44568533887869655  bull\t \t+1\n",
      "2.111174181304805  bull\t \t+1\n",
      "-0.05988891134932025  flat\t \t0\n",
      "1.0119291106223889  bull\t \t+1\n",
      "0.8755964202085723  bull\t \t+1\n",
      "-0.5369889069201903  bare\t \t-1\n",
      "0.04438252073355445  flat\t \t0\n",
      "1.9220420002873166  bull\t \t+1\n",
      "2.350051742181537  bull\t \t+1\n",
      "1.0063019633698222  bull\t \t+1\n",
      "-0.47005766577586383  bare\t \t-1\n",
      "1.4803568982417012  bull\t \t+1\n",
      "1.3683980824941604  bull\t \t+1\n",
      "-2.0078118369822358  bare\t \t-1\n",
      "0.9021016885186315  bull\t \t+1\n",
      "0.790062600702964  bull\t \t+1\n",
      "3.7062448550339946  bull\t \t+1\n",
      "2.4400078776691427  bull\t \t+1\n",
      "-1.7928852868838088  bare\t \t-1\n",
      "1.9244921672551711  bull\t \t+1\n",
      "-1.7652987348497062  bare\t \t-1\n",
      "-0.6911315390070449  bare\t \t-1\n",
      "0.2455949738454667  bull\t \t+1\n",
      "1.8807228899620585  bull\t \t+1\n",
      "-0.4225226944218683  bare\t \t-1\n",
      "1.390345345325651  bull\t \t+1\n",
      "-1.0429415689947228  bare\t \t-1\n",
      "-0.7546409634393456  bare\t \t-1\n",
      "-2.6679829524298553  bare\t \t-1\n",
      "0.2895897332077671  bull\t \t+1\n",
      "0.3290588538705798  bull\t \t+1\n",
      "-1.800523260039249  bare\t \t-1\n",
      "0.8247042611205011  bull\t \t+1\n",
      "-0.3447863384955102  bare\t \t-1\n",
      "-1.4245641841594248  bare\t \t-1\n",
      "0.4129003691058104  bull\t \t+1\n",
      "3.5090016005754703  bull\t \t+1\n",
      "1.8539807133285815  bull\t \t+1\n",
      "-1.4496779038162018  bare\t \t-1\n",
      "0.8377593171130994  bull\t \t+1\n",
      "-1.4914664365796282  bare\t \t-1\n",
      "-1.3878717275127623  bare\t \t-1\n",
      "1.326571508263394  bull\t \t+1\n",
      "1.4088892244394535  bull\t \t+1\n",
      "0.2621560971881587  bull\t \t+1\n",
      "1.8693934788080124  bull\t \t+1\n",
      "-0.5454046993178508  bare\t \t-1\n",
      "1.54841513325594  bull\t \t+1\n",
      "1.1943974456501287  bull\t \t+1\n",
      "-0.910345802645019  bare\t \t-1\n",
      "0.696978189971464  bull\t \t+1\n",
      "0.8305595301803805  bull\t \t+1\n",
      "-1.2293662703451427  bare\t \t-1\n",
      "-0.3979938973422345  bare\t \t-1\n",
      "1.9790451046788355  bull\t \t+1\n",
      "0.9890167612577448  bull\t \t+1\n",
      "1.5644156583982456  bull\t \t+1\n",
      "0.7701288527018902  bull\t \t+1\n",
      "-0.3249485593906924  bare\t \t-1\n",
      "-1.1290398942401354  bare\t \t-1\n",
      "0.5496330356896146  bull\t \t+1\n",
      "-1.5972691161260555  bare\t \t-1\n",
      "-0.7590756823397934  bare\t \t-1\n",
      "-0.4353336088424727  bare\t \t-1\n",
      "3.410361067503932  bull\t \t+1\n",
      "-0.2114390852618212  bare\t \t-1\n",
      "0.012109572769408732  flat\t \t0\n",
      "0.7504592257991436  bull\t \t+1\n",
      "0.6968580092169703  bull\t \t+1\n",
      "-0.5846227659829771  bare\t \t-1\n",
      "-0.978130512315006  bare\t \t-1\n",
      "0.18788403826401362  bull\t \t+1\n",
      "-0.943556851170134  bare\t \t-1\n",
      "-0.006138716578519345  flat\t \t0\n",
      "2.8395148888363715  bull\t \t+1\n",
      "0.7541378186415769  bull\t \t+1\n",
      "-0.053027892671537416  flat\t \t0\n",
      "-0.6191253047016676  bare\t \t-1\n",
      "-0.6467826099405082  bare\t \t-1\n",
      "-0.9912890720451281  bare\t \t-1\n",
      "4.692686547433824  bull\t \t+1\n",
      "-0.04037104289930792  flat\t \t0\n",
      "-0.9971097261077242  bare\t \t-1\n",
      "1.039167027590159  bull\t \t+1\n",
      "0.11237679824598842  bull\t \t+1\n",
      "-0.5417540611303112  bare\t \t-1\n",
      "-0.289718147293166  bare\t \t-1\n",
      "0.0  flat\t \t0\n",
      "0.3602826716579227  bull\t \t+1\n",
      "1.3666010312149122  bull\t \t+1\n",
      "0.06285794906441469  flat\t \t0\n",
      "-0.5480566971015215  bare\t \t-1\n",
      "-1.5154903212867206  bare\t \t-1\n",
      "0.16320898474531034  bull\t \t+1\n",
      "0.6691823811184843  bull\t \t+1\n",
      "1.4104852024989867  bull\t \t+1\n",
      "1.0659843573219336  bull\t \t+1\n",
      "-0.028198905338882176  flat\t \t0\n",
      "1.6022402363485604  bull\t \t+1\n",
      "0.4775294679053005  bull\t \t+1\n",
      "-0.7571092032654542  bare\t \t-1\n",
      "-0.20601139575656308  bare\t \t-1\n",
      "-0.7756641126780165  bare\t \t-1\n",
      "1.5465177661535572  bull\t \t+1\n",
      "0.21600169465421848  bull\t \t+1\n",
      "1.563899112446068  bull\t \t+1\n",
      "-0.2612156963211933  bare\t \t-1\n",
      "0.34914499183686254  bull\t \t+1\n",
      "1.1198713722476614  bull\t \t+1\n",
      "-0.5859833558490135  bare\t \t-1\n",
      "0.048699024825098  flat\t \t0\n",
      "-0.5675531507909273  bare\t \t-1\n",
      "1.6525100907898167  bull\t \t+1\n",
      "-0.17110086522169932  bare\t \t-1\n",
      "-0.7553280339367808  bare\t \t-1\n",
      "1.5059509746333066  bull\t \t+1\n",
      "0.6327664433593069  bull\t \t+1\n",
      "0.1796233109255183  bull\t \t+1\n",
      "2.3102642283956794  bull\t \t+1\n",
      "-0.7784397045655648  bare\t \t-1\n",
      "-0.5871582604341046  bare\t \t-1\n",
      "0.25086920065022583  bull\t \t+1\n",
      "-0.5890958386437387  bare\t \t-1\n",
      "-1.0856104880745583  bare\t \t-1\n",
      "-0.28099501724879755  bare\t \t-1\n",
      "0.8985257835744824  bull\t \t+1\n",
      "0.4057696529796538  bull\t \t+1\n",
      "0.07871837631492923  flat\t \t0\n",
      "1.7305473994668874  bull\t \t+1\n",
      "-0.13398755556292175  bare\t \t-1\n",
      "0.7071638820944531  bull\t \t+1\n",
      "-1.0097636732077002  bare\t \t-1\n",
      "-0.6161554044465201  bare\t \t-1\n",
      "0.42199963386249434  bull\t \t+1\n",
      "0.45137344407416197  bull\t \t+1\n",
      "0.45447851895485053  bull\t \t+1\n",
      "-0.6580641897768561  bare\t \t-1\n",
      "1.3507741868440113  bull\t \t+1\n",
      "0.31662101397675185  bull\t \t+1\n",
      "-0.43014698179093996  bare\t \t-1\n",
      "-1.5464832915545252  bare\t \t-1\n",
      "-0.7321873085795382  bare\t \t-1\n",
      "-4.8020145154344664  bare\t \t-1\n",
      "-1.7253430026683354  bare\t \t-1\n",
      "0.5311920245416036  bull\t \t+1\n",
      "-0.895457550498961  bare\t \t-1\n",
      "-0.12344420023539326  bare\t \t-1\n",
      "0.03373385231567418  flat\t \t0\n",
      "0.9393232271169237  bull\t \t+1\n",
      "-1.1200281571324358  bare\t \t-1\n",
      "-0.49590176206998693  bare\t \t-1\n",
      "-1.4555427481219452  bare\t \t-1\n",
      "0.28159096880660883  bull\t \t+1\n",
      "0.7736802761231408  bull\t \t+1\n",
      "0.7904903959750107  bull\t \t+1\n",
      "2.194927680527142  bull\t \t+1\n",
      "-2.617087514503088  bare\t \t-1\n",
      "1.264357100874585  bull\t \t+1\n",
      "0.8846030569016714  bull\t \t+1\n",
      "2.1810157374991426  bull\t \t+1\n",
      "1.9172483192970633  bull\t \t+1\n",
      "0.11722320976810607  bull\t \t+1\n",
      "0.8463382887625815  bull\t \t+1\n",
      "0.12668704384196675  bull\t \t+1\n",
      "-3.5793751882838594  bare\t \t-1\n",
      "-2.9249081187152726  bare\t \t-1\n",
      "0.34918046486624527  bull\t \t+1\n",
      "0.6622259434567518  bull\t \t+1\n",
      "-1.7060220005287956  bare\t \t-1\n",
      "-1.1854846093434244  bare\t \t-1\n",
      "0.8782273849254575  bull\t \t+1\n",
      "-0.41538042879857556  bare\t \t-1\n",
      "1.6913100018905047  bull\t \t+1\n",
      "0.6181084596694455  bull\t \t+1\n",
      "-1.9992553462500073  bare\t \t-1\n",
      "-0.8889043777926332  bare\t \t-1\n",
      "0.4944667909462643  bull\t \t+1\n",
      "0.7379934104863166  bull\t \t+1\n",
      "-2.339825604899547  bare\t \t-1\n",
      "-0.8897769231711143  bare\t \t-1\n",
      "0.1525982888284401  bull\t \t+1\n",
      "0.30461408696244197  bull\t \t+1\n",
      "1.4836021990222947  bull\t \t+1\n",
      "-0.777032699885687  bare\t \t-1\n",
      "0.7308944209982097  bull\t \t+1\n",
      "0.7198177939559135  bull\t \t+1\n",
      "1.4750314260280246  bull\t \t+1\n",
      "0.8451081338480538  bull\t \t+1\n",
      "-0.3352439719100848  bare\t \t-1\n",
      "0.7904311964039376  bull\t \t+1\n",
      "0.5060930796399592  bull\t \t+1\n",
      "-1.0292262300393544  bare\t \t-1\n",
      "-0.07270705112646257  flat\t \t0\n",
      "-0.8784488049303979  bare\t \t-1\n",
      "-0.7395375555700066  bare\t \t-1\n",
      "-0.21609626375832972  bare\t \t-1\n",
      "-1.4704084093212848  bare\t \t-1\n",
      "0.06941846809620841  flat\t \t0\n",
      "0.2543578117230552  bull\t \t+1\n",
      "-1.3492023578091445  bare\t \t-1\n",
      "-2.4605480815037963  bare\t \t-1\n",
      "0.7969577911545335  bull\t \t+1\n",
      "1.2305062562356643  bull\t \t+1\n",
      "0.28189711814951546  bull\t \t+1\n",
      "1.8738551500634055  bull\t \t+1\n",
      "2.06933276164032  bull\t \t+1\n",
      "-0.5181513903192565  bare\t \t-1\n",
      "1.4605599437434085  bull\t \t+1\n",
      "1.4450726396112061  bull\t \t+1\n",
      "0.5884772709476763  bull\t \t+1\n",
      "-0.2624761123713403  bare\t \t-1\n",
      "2.3220023546508646  bull\t \t+1\n",
      "-0.8583365921367482  bare\t \t-1\n",
      "1.4285520779998249  bull\t \t+1\n",
      "0.3041114608835089  bull\t \t+1\n",
      "0.9041893717007584  bull\t \t+1\n",
      "-0.010503081783648609  flat\t \t0\n",
      "0.927799299333908  bull\t \t+1\n",
      "-0.42310387749338285  bare\t \t-1\n",
      "0.35147612619947677  bull\t \t+1\n",
      "-0.7004378587107525  bare\t \t-1\n",
      "-0.09476729569030184  flat\t \t0\n",
      "0.32139599394559326  bull\t \t+1\n",
      "-0.5409205957383615  bare\t \t-1\n",
      "0.3062464871804152  bull\t \t+1\n",
      "0.6791493659462762  bull\t \t+1\n",
      "-0.9464581251050322  bare\t \t-1\n",
      "2.1063108453680517  bull\t \t+1\n",
      "-0.5687115468736531  bare\t \t-1\n",
      "1.0139273793712718  bull\t \t+1\n",
      "0.7412546180234832  bull\t \t+1\n",
      "-1.2927413504307306  bare\t \t-1\n",
      "0.7920333295669413  bull\t \t+1\n",
      "1.6691187322555083  bull\t \t+1\n",
      "0.07576841974288258  flat\t \t0\n",
      "-0.2725699051084731  bare\t \t-1\n",
      "-0.8503016954340707  bare\t \t-1\n",
      "0.5359833653989633  bull\t \t+1\n",
      "-1.071386808616639  bare\t \t-1\n",
      "-0.07698565692457156  flat\t \t0\n",
      "-0.5547443603647461  bare\t \t-1\n",
      "-0.2840913498761015  bare\t \t-1\n",
      "0.05176241156821833  flat\t \t0\n",
      "0.2226498389352717  bull\t \t+1\n",
      "-0.5424311280053652  bare\t \t-1\n"
     ]
    }
   ],
   "source": [
    "returns_on_data=[]\n",
    "classification=[]\n",
    "category=[]\n",
    "for i in range(0,days):\n",
    "    if i == 0:\n",
    "        # for the 1st day, I assumed it to be flat i,e 0\n",
    "        returns_on_data.append(0)\n",
    "        classification.append(0)\n",
    "        category.append(\"Flat\")\n",
    "    else:\n",
    "        pd1 = df.prices.iloc[i]\n",
    "        pd0 = df.prices.iloc[i-1]\n",
    "        value = ((pd1 - pd0)/pd0)*100\n",
    "        returns_on_data.append(value)\n",
    "        if value >=0.1:\n",
    "            print(value,\" bull\\t\",\"\\t+1\")\n",
    "            classification.append(1)\n",
    "            category.append(\"Bull\")\n",
    "        elif value > -0.1 and value <0.1:\n",
    "            print(value,\" flat\\t\",\"\\t0\")\n",
    "            classification.append(0)\n",
    "            category.append(\"Flat\")\n",
    "        else:\n",
    "            print(value,\" bare\\t\",\"\\t-1\")\n",
    "            classification.append(-1)\n",
    "            category.append(\"Bear\")\n",
    "        "
   ]
  },
  {
   "cell_type": "code",
   "execution_count": 338,
   "id": "e46522fe-9e62-45d7-85fe-3a3e95b222bb",
   "metadata": {
    "tags": []
   },
   "outputs": [],
   "source": [
    "data['classification'] = classification\n",
    "data['returns_on_data'] = returns_on_data"
   ]
  },
  {
   "cell_type": "code",
   "execution_count": 354,
   "id": "904690bd-64f9-4d3e-bdff-c62bd3dcafed",
   "metadata": {
    "tags": []
   },
   "outputs": [],
   "source": [
    "data['category'] = category"
   ]
  },
  {
   "cell_type": "code",
   "execution_count": 339,
   "id": "eaea5890-8de8-4efa-84d6-2bd7f0e2d762",
   "metadata": {
    "tags": []
   },
   "outputs": [
    {
     "data": {
      "text/plain": [
       "0      0\n",
       "1      1\n",
       "2     -1\n",
       "3      1\n",
       "4      1\n",
       "      ..\n",
       "245   -1\n",
       "246   -1\n",
       "247    0\n",
       "248    1\n",
       "249   -1\n",
       "Name: classification, Length: 250, dtype: int64"
      ]
     },
     "execution_count": 339,
     "metadata": {},
     "output_type": "execute_result"
    }
   ],
   "source": [
    "data.classification"
   ]
  },
  {
   "cell_type": "code",
   "execution_count": 340,
   "id": "6dda5eac-bd43-453d-a4d4-6a1417b85902",
   "metadata": {
    "tags": []
   },
   "outputs": [
    {
     "data": {
      "text/plain": [
       "Text(0, 0.5, 'Prices')"
      ]
     },
     "execution_count": 340,
     "metadata": {},
     "output_type": "execute_result"
    },
    {
     "data": {
      "image/png": "[encoded data removed]",
      "text/plain": [
       "<Figure size 1080x864 with 1 Axes>"
      ]
     },
     "metadata": {},
     "output_type": "display_data"
    }
   ],
   "source": [
    "import matplotlib.pyplot as plt\n",
    "\n",
    "plt.figure(figsize=(15,12))\n",
    "plt.scatter(data.Date,data.classification)\n",
    "plt.title('US Stock Price')\n",
    "plt.xlabel('Date')\n",
    "plt.ylabel('Prices')"
   ]
  },
  {
   "cell_type": "code",
   "execution_count": null,
   "id": "23ba7d56-219c-4f26-a102-887ebfaf67fb",
   "metadata": {},
   "outputs": [],
   "source": []
  },
  {
   "cell_type": "code",
   "execution_count": 356,
   "id": "1241d292-e900-4ec2-9577-6a0e47ebb2df",
   "metadata": {
    "tags": []
   },
   "outputs": [
    {
     "name": "stderr",
     "output_type": "stream",
     "text": [
      "No handles with labels found to put in legend.\n"
     ]
    },
    {
     "data": {
      "text/plain": [
       "<matplotlib.legend.Legend at 0x7f42579fb2b0>"
      ]
     },
     "execution_count": 356,
     "metadata": {},
     "output_type": "execute_result"
    },
    {
     "data": {
      "image/png": "[encoded data removed]",
      "text/plain": [
       "<Figure size 1152x432 with 1 Axes>"
      ]
     },
     "metadata": {},
     "output_type": "display_data"
    }
   ],
   "source": [
    "df1 = data[data.classification==1]\n",
    "df2 = data[data.classification==0]\n",
    "df3 = data[data.classification==-1]\n",
    "\n",
    "plt.scatter(df1['Date'],df1['prices'],color='green')\n",
    "plt.scatter(df2['Date'],df2['prices'],color='red')\n",
    "plt.scatter(df3['Date'],df3['prices'],color='black')\n",
    "\n",
    "plt.xlabel('Age')\n",
    "plt.ylabel('Income($)')\n",
    "plt.legend()"
   ]
  },
  {
   "cell_type": "code",
   "execution_count": 357,
   "id": "abd7bae2-cf2b-43c0-8113-90f0e923767b",
   "metadata": {
    "tags": []
   },
   "outputs": [
    {
     "name": "stderr",
     "output_type": "stream",
     "text": [
      "No handles with labels found to put in legend.\n"
     ]
    },
    {
     "data": {
      "text/plain": [
       "<matplotlib.legend.Legend at 0x7f42579538b0>"
      ]
     },
     "execution_count": 357,
     "metadata": {},
     "output_type": "execute_result"
    },
    {
     "data": {
      "image/png": "[encoded data removed]",
      "text/plain": [
       "<Figure size 1152x432 with 1 Axes>"
      ]
     },
     "metadata": {},
     "output_type": "display_data"
    }
   ],
   "source": [
    "df1 = data[data.classification==1]\n",
    "df2 = data[data.classification==0]\n",
    "df3 = data[data.classification==-1]\n",
    "\n",
    "plt.scatter(df1['Date'],df1['category'],color='green')\n",
    "plt.scatter(df2['Date'],df2['category'],color='red')\n",
    "plt.scatter(df3['Date'],df3['category'],color='black')\n",
    "\n",
    "plt.xlabel('Age')\n",
    "plt.ylabel('Income($)')\n",
    "plt.legend()"
   ]
  },
  {
   "cell_type": "code",
   "execution_count": 360,
   "id": "c3240c7a-2eb8-4e29-964c-ed8fdecc2a1a",
   "metadata": {
    "tags": []
   },
   "outputs": [
    {
     "data": {
      "text/plain": [
       "2"
      ]
     },
     "execution_count": 360,
     "metadata": {},
     "output_type": "execute_result"
    }
   ],
   "source": []
  },
  {
   "cell_type": "code",
   "execution_count": 361,
   "id": "aa14029a-76fb-4678-afb7-1c7987d1cd43",
   "metadata": {
    "tags": []
   },
   "outputs": [
    {
     "data": {
      "text/plain": [
       "'\\nultimate goal is to maximize the profit\\nby finding the optimal paths\\n\\n'"
      ]
     },
     "execution_count": 361,
     "metadata": {},
     "output_type": "execute_result"
    }
   ],
   "source": [
    "'''\n",
    "ultimate goal is to maximize the profit\n",
    "by finding the optimal paths\n",
    "\n",
    "'''"
   ]
  },
  {
   "cell_type": "code",
   "execution_count": 362,
   "id": "d4f4e208-4751-4c5c-ba0f-bbac9ccf6423",
   "metadata": {
    "tags": []
   },
   "outputs": [],
   "source": [
    "from statsmodels.graphics.tsaplots import plot_acf, plot_pacf"
   ]
  },
  {
   "cell_type": "code",
   "execution_count": 369,
   "id": "4ce49655-9e6b-416e-bdc3-1ba67ea031aa",
   "metadata": {
    "tags": []
   },
   "outputs": [
    {
     "data": {
      "image/png": "[encoded data removed]",
      "text/plain": [
       "<Figure size 1152x432 with 1 Axes>"
      ]
     },
     "metadata": {},
     "output_type": "display_data"
    }
   ],
   "source": [
    "plot_acf(sample)\n",
    "plt.show()"
   ]
  },
  {
   "cell_type": "code",
   "execution_count": 370,
   "id": "f93c54c5-9696-4285-b343-cb6c28eb5ae1",
   "metadata": {
    "tags": []
   },
   "outputs": [
    {
     "name": "stderr",
     "output_type": "stream",
     "text": [
      "/opt/conda/lib/python3.9/site-packages/statsmodels/graphics/tsaplots.py:348: FutureWarning: The default method 'yw' can produce PACF values outside of the [-1,1] interval. After 0.13, the default will change tounadjusted Yule-Walker ('ywm'). You can use this method now by setting method='ywm'.\n",
      "  warnings.warn(\n"
     ]
    },
    {
     "data": {
      "image/png": "[encoded data removed]",
      "text/plain": [
       "<Figure size 1152x432 with 1 Axes>"
      ]
     },
     "metadata": {},
     "output_type": "display_data"
    }
   ],
   "source": [
    "plot_pacf(sample)\n",
    "plt.show()"
   ]
  },
  {
   "cell_type": "code",
   "execution_count": null,
   "id": "b4c87a63-f906-48df-bdc6-d4d81142a82a",
   "metadata": {},
   "outputs": [],
   "source": []
  }
 ],
 "metadata": {
  "kernelspec": {
   "display_name": "Python 3.9",
   "language": "python",
   "name": "python3"
  },
  "language_info": {
   "codemirror_mode": {
    "name": "ipython",
    "version": 3
   },
   "file_extension": ".py",
   "mimetype": "text/x-python",
   "name": "python",
   "nbconvert_exporter": "python",
   "pygments_lexer": "ipython3",
   "version": "3.9.12"
  }
 },
 "nbformat": 4,
 "nbformat_minor": 5
}
